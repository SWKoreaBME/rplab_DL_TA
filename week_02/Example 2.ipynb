{
 "cells": [
  {
   "cell_type": "markdown",
   "metadata": {},
   "source": [
    "## Mnist dataset 에서 indexing 이 가능한 class 작성"
   ]
  },
  {
   "cell_type": "code",
   "execution_count": 20,
   "metadata": {},
   "outputs": [],
   "source": [
    "import os\n",
    "import glob2\n",
    "from cv2 import imread\n",
    "import matplotlib.pyplot as plt\n",
    "\n",
    "class Dataset:\n",
    "    def __init__(self, root, phase):\n",
    "        self.root = root\n",
    "        self.phase = phase\n",
    "        self.img_list = []\n",
    "\n",
    "        for index in sorted(os.listdir(os.path.join(root, phase))):\n",
    "            \n",
    "            self.img_list.extend(sorted([os.path.join(root, phase, index, file) \\\n",
    "                                  for file \\\n",
    "                                  in os.listdir(os.path.join(root, phase, index))]))\n",
    "\n",
    "    def __getitem__(self, index):\n",
    "        \n",
    "        img = imread(self.img_list[index])\n",
    "        label = int(self.img_list[index].split('/')[-2])\n",
    "        \n",
    "        return img, label"
   ]
  },
  {
   "cell_type": "code",
   "execution_count": 21,
   "metadata": {},
   "outputs": [
    {
     "name": "stdout",
     "output_type": "stream",
     "text": [
      "0\n"
     ]
    },
    {
     "data": {
      "image/png": "[encoded data removed]",
      "text/plain": [
       "<Figure size 432x288 with 1 Axes>"
      ]
     },
     "metadata": {
      "needs_background": "light"
     },
     "output_type": "display_data"
    }
   ],
   "source": [
    "dataset = Dataset(root='../data/mnist_dataset/', phase='train')\n",
    "img, label = dataset[0]\n",
    "\n",
    "%matplotlib inline\n",
    "\n",
    "plt.imshow(img, cmap='gray')\n",
    "print(label)"
   ]
  },
  {
   "cell_type": "code",
   "execution_count": null,
   "metadata": {},
   "outputs": [],
   "source": []
  }
 ],
 "metadata": {
  "kernelspec": {
   "display_name": "Python 3",
   "language": "python",
   "name": "python3"
  },
  "language_info": {
   "codemirror_mode": {
    "name": "ipython",
    "version": 3
   },
   "file_extension": ".py",
   "mimetype": "text/x-python",
   "name": "python",
   "nbconvert_exporter": "python",
   "pygments_lexer": "ipython3",
   "version": "3.7.1"
  }
 },
 "nbformat": 4,
 "nbformat_minor": 2
}
