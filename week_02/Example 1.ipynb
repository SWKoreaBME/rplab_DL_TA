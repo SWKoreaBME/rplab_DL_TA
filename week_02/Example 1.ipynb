{
 "cells": [
  {
   "cell_type": "markdown",
   "metadata": {},
   "source": [
    "## Mnist dataset download and parsing\n",
    "\n",
    "- 참조 : https://m.blog.naver.com/PostView.nhn?blogId=acwboy&logNo=220584307823&proxyReferer=https%3A%2F%2Fwww.google.com%2F\n"
   ]
  },
  {
   "cell_type": "code",
   "execution_count": 52,
   "metadata": {},
   "outputs": [
    {
     "name": "stdout",
     "output_type": "stream",
     "text": [
      "train-images-idx3-ubyte.gz\n",
      "train-labels-idx1-ubyte.gz\n",
      "t10k-images-idx3-ubyte.gz\n",
      "t10k-labels-idx1-ubyte.gz\n"
     ]
    }
   ],
   "source": [
    "import requests\n",
    "from bs4 import BeautifulSoup\n",
    "import os\n",
    "import gzip\n",
    "import numpy as np\n",
    "import matplotlib.pyplot as plt\n",
    "from struct import *\n",
    "import scipy.misc.imsave as imsave\n",
    "\n",
    "def example1(mnist_url):\n",
    "    \n",
    "    mnist_url = 'http://yann.lecun.com/exdb/mnist/'\n",
    "    save_folder = './mnist_download'\n",
    "\n",
    "    if os.path.exists(save_folder) != True : os.mkdir(save_folder)\n",
    "\n",
    "    page = requests.get(mnist_url)\n",
    "    soup = BeautifulSoup(page.content, 'html.parser')\n",
    "\n",
    "    # download part\n",
    "    for a_tag in soup.find_all('a'):\n",
    "        if '.gz' in str(a_tag):\n",
    "            print(a_tag.text)\n",
    "            a = requests.get(mnist_url + a_tag.text, allow_redirects = True)\n",
    "\n",
    "            with open(os.path.join(save_folder, a_tag.text), 'wb') as f:\n",
    "\n",
    "                f.write(a.content)\n",
    "\n",
    "                f.close()\n",
    "\n",
    "    # Parsing and save\n",
    "\n",
    "    train_dir = '../data/mnist_dataset/train'\n",
    "    test_dir = '../data/mnist_dataset/test'\n",
    "\n",
    "    if not os.path.exists(train_dir): os.mkdir(train_dir)\n",
    "    if not os.path.exists(test_dir): os.mkdir(test_dir)\n",
    "\n",
    "    train_image_file = 'train-images-idx3-ubyte.gz'\n",
    "    train_label_file = 'train-labels-idx1-ubyte.gz'\n",
    "    test_image_file = 't10k-images-idx3-ubyte.gz'\n",
    "    test_label_file = 't10k-labels-idx1-ubyte.gz'\n",
    "    \n",
    "    \n",
    "\n",
    "    def mnistByte2Imgfolder(img_byte_file, label_byte_file, save_dir):\n",
    "\n",
    "        img_byte = gzip.open(img_byte_file , 'rb')\n",
    "        label_byte = gzip.open(label_byte_file , 'rb')\n",
    "\n",
    "        img_byte.read(16)\n",
    "        label_byte.read(8)\n",
    "\n",
    "        while True:\n",
    "\n",
    "            img = img_byte.read(784)\n",
    "            label = label_byte.read(1)\n",
    "\n",
    "            if not img or not label : break\n",
    "\n",
    "            idx = int(label[0])\n",
    "            img = np.reshape( unpack(len(img)*'B',img), (28,28))\n",
    "\n",
    "            label_dir = os.path.join(save_dir, str(idx))\n",
    "            if not os.path.exists(label_dir) : \n",
    "                os.mkdir(label_dir)\n",
    "                if os.path.exists(os.path.join(label_dir, '.DS_Store')):\n",
    "                    os.remove(os.path.join(label_dir, '.DS_Store')) # mac 의 경우\n",
    "\n",
    "            file_index = str(len(os.listdir(label_dir)) + 1)\n",
    "\n",
    "            imsave(os.path.join(label_dir, file_index+'.jpg'), img)\n",
    "\n",
    "        return None\n",
    "\n",
    "    \n",
    "    mnistByte2Imgfolder(os.path.join(train_image_file), os.path.join(train_label_file), train_dir)\n",
    "    mnistByte2Imgfolder(os.path.join(test_image_file), os.path.join(test_label_file), test_dir)\n",
    "    \n",
    "    print('Mnist dataset Ready')\n",
    "    return None"
   ]
  }
 ],
 "metadata": {
  "kernelspec": {
   "display_name": "Python 3",
   "language": "python",
   "name": "python3"
  },
  "language_info": {
   "codemirror_mode": {
    "name": "ipython",
    "version": 3
   },
   "file_extension": ".py",
   "mimetype": "text/x-python",
   "name": "python",
   "nbconvert_exporter": "python",
   "pygments_lexer": "ipython3",
   "version": "3.7.1"
  }
 },
 "nbformat": 4,
 "nbformat_minor": 2
}
