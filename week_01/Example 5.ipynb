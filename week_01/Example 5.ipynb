{
 "cells": [
  {
   "cell_type": "code",
   "execution_count": 29,
   "metadata": {},
   "outputs": [],
   "source": [
    "input_dict1 = {'c':2, 'a':10, 'f':1, 'z':4}\n",
    "input_dict2 = {'2':'c', '10':'a', '1':'f', '4':'z'}\n",
    "\n",
    "def sort_tuple(input_dict):\n",
    "    \n",
    "    '''\n",
    "        < sort >\n",
    "        \n",
    "        sorted 함수에는 sort 할 기준 (key 값)을 정해줄 수 있습니다.\n",
    "        아래와 같은 경우는 sort 의 키가 lambda function 으로 x 를 input 으로 받고 x[1] 즉 두번째 값을 sort key 로 취한다는 얘기입니다.\n",
    "        \n",
    "        * 참조\n",
    "        \n",
    "        (1) lambda x : x[1] \n",
    "        \n",
    "        (2) def function_lambda(x):\n",
    "                return x[1] \n",
    "            \n",
    "        와 동일한 뜻을 가지고 있습니다.\n",
    "        \n",
    "    '''\n",
    "    \n",
    "    '''\n",
    "        < dictionary class 의 methods >\n",
    "        \n",
    "        1. dict.keys() => dictionary 의 key 들을 반환하여 줍니다.\n",
    "        \n",
    "        (example) input_dict.keys() = dict_keys(['c', 'a', 'f', 'z'])\n",
    "        \n",
    "        2. dict.values() => dictionary 의 values 들을 반환하여 줍니다.\n",
    "        \n",
    "        (example) input_dict.values() = dict_values([2, 10, 1, 4])\n",
    "        \n",
    "        3. dict.items() => dictionary 의 key, value 를 한 쌍씩 tuple 로 하여 반환하여 줍니다.\n",
    "        \n",
    "        (example) input_dict.items() = dict_items([('c', 2), ('a', 10), ('f', 1), ('z', 4)])\n",
    "    \n",
    "    '''\n",
    "    \n",
    "    return tuple([key for key,_ in sorted(input_dict.items(), key=lambda x : x[1])])"
   ]
  },
  {
   "cell_type": "code",
   "execution_count": 30,
   "metadata": {},
   "outputs": [
    {
     "data": {
      "text/plain": [
       "('f', 'c', 'z', 'a')"
      ]
     },
     "execution_count": 30,
     "metadata": {},
     "output_type": "execute_result"
    }
   ],
   "source": [
    "sort_tuple(input_dict1)"
   ]
  },
  {
   "cell_type": "code",
   "execution_count": 31,
   "metadata": {},
   "outputs": [
    {
     "data": {
      "text/plain": [
       "('10', '2', '1', '4')"
      ]
     },
     "execution_count": 31,
     "metadata": {},
     "output_type": "execute_result"
    }
   ],
   "source": [
    "sort_tuple(input_dict2)"
   ]
  },
  {
   "cell_type": "code",
   "execution_count": null,
   "metadata": {},
   "outputs": [],
   "source": []
  }
 ],
 "metadata": {
  "kernelspec": {
   "display_name": "Python 3",
   "language": "python",
   "name": "python3"
  },
  "language_info": {
   "codemirror_mode": {
    "name": "ipython",
    "version": 3
   },
   "file_extension": ".py",
   "mimetype": "text/x-python",
   "name": "python",
   "nbconvert_exporter": "python",
   "pygments_lexer": "ipython3",
   "version": "3.7.1"
  }
 },
 "nbformat": 4,
 "nbformat_minor": 2
}
