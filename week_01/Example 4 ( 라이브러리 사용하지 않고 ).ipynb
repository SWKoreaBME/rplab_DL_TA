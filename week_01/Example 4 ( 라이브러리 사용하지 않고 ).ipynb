{
 "cells": [
  {
   "cell_type": "markdown",
   "metadata": {},
   "source": [
    "### 주어진 iterable 객체의 원소를 이용하여, 길이 n인 조합 가능한 모든 iterable 객체들을 반환해주는 함수를 작성하세요"
   ]
  },
  {
   "cell_type": "code",
   "execution_count": 24,
   "metadata": {},
   "outputs": [],
   "source": [
    "import itertools\n",
    "\n",
    "sub1 = 'ABCD'\n",
    "sub2 = range(4)\n",
    "\n",
    "def subsequences_library(sub, n):    \n",
    "    return list(itertools.combinations(sub, n))\n",
    "\n",
    "def subsequences(sub, n):\n",
    "    \n",
    "    # check whether n is integer\n",
    "    if type(n) != type(1): return 'n should be integer'\n",
    "    \n",
    "    # iterater through sub with n time\n",
    "    \n",
    "    for i in range(n):\n",
    "        \n",
    "    \n",
    "    return None"
   ]
  },
  {
   "cell_type": "code",
   "execution_count": 25,
   "metadata": {},
   "outputs": [
    {
     "data": {
      "text/plain": [
       "'n should be integer'"
      ]
     },
     "execution_count": 25,
     "metadata": {},
     "output_type": "execute_result"
    }
   ],
   "source": [
    "subsequences(sub1, 'd')"
   ]
  },
  {
   "cell_type": "code",
   "execution_count": null,
   "metadata": {},
   "outputs": [],
   "source": []
  }
 ],
 "metadata": {
  "kernelspec": {
   "display_name": "Python 3",
   "language": "python",
   "name": "python3"
  },
  "language_info": {
   "codemirror_mode": {
    "name": "ipython",
    "version": 3
   },
   "file_extension": ".py",
   "mimetype": "text/x-python",
   "name": "python",
   "nbconvert_exporter": "python",
   "pygments_lexer": "ipython3",
   "version": "3.7.1"
  }
 },
 "nbformat": 4,
 "nbformat_minor": 2
}
