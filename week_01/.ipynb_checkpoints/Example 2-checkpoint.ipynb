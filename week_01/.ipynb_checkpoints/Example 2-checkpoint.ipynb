{
 "cells": [
  {
   "cell_type": "markdown",
   "metadata": {},
   "source": [
    "### 주어진 expression string 에 대해서, 괄호의 완결성을 판단해주는 함수를 작성하세요"
   ]
  },
  {
   "cell_type": "code",
   "execution_count": 79,
   "metadata": {},
   "outputs": [],
   "source": [
    "input_expression = \"abc{def[ghi]{(jkl)}}\"\n",
    "\n",
    "def check_parantheses(input_expression):\n",
    "    \n",
    "    balance = True\n",
    "    \n",
    "    open_pt = ['{', '(', '[']\n",
    "    close_pt = ['}', ')', ']']\n",
    "    \n",
    "    # input expression 에서 괄호만 리스트로 저장\n",
    "    only_pt = [char for char in input_expression if char in [*open_pt, *close_pt]]\n",
    "    \n",
    "    ''' 4가지 test 를 진행하여 괄호의 완결성 판단 '''\n",
    "    \n",
    "    # 1. 첫번째 괄호가 open 인지 확인, 그렇지 않으면 return False\n",
    "    if only_pt[0] not in open_pt : balance = False\n",
    "    \n",
    "    # 2. 리스트의 길이가 홀수이면 return False\n",
    "    \n",
    "    if len(only_pt) % 2 != 0 : balance = False\n",
    "    \n",
    "    # 3. 앞에서 부터 확인하면서 open 인지 확인, 만약 직전 괄호에 대하여 짝이 맞지 않는 close pt 가 온다면 return False\n",
    "    \n",
    "    # 4번 에서 쓰일 count 변수 open pt, close pt 의 갯수를 저장하는 변수\n",
    "    open_cnt = 0\n",
    "    close_cnt = 0\n",
    "    \n",
    "    for pt in input_expression:\n",
    "        \n",
    "        if pt in open_pt:\n",
    "#             print('open', open_pt.index(pt))\n",
    "            \n",
    "            recent_open = open_pt.index(pt)\n",
    "            open_cnt += 1\n",
    "\n",
    "        elif pt in close_pt:\n",
    "#             print('close', close_pt.index(pt))\n",
    "            \n",
    "            current_close = close_pt.index(pt)\n",
    "            close_cnt += 1\n",
    "            \n",
    "            if recent_open == current_close : \n",
    "#                 print('Correctly closed')\n",
    "                recent_open = 100\n",
    "            elif recent_open == 100: continue\n",
    "            else : \n",
    "#                 print('Incorrectly closed')\n",
    "                balance = False\n",
    "                break\n",
    "                \n",
    "    # 4. open 의 수와 close 의 수가 같으면 True, 그렇지 않으면 False\n",
    "    \n",
    "    if open_cnt != close_cnt : balance = False\n",
    "    \n",
    "    if balance == True : return 'Balanced'\n",
    "    else : return 'Unbalanced'"
   ]
  },
  {
   "cell_type": "code",
   "execution_count": 80,
   "metadata": {
    "scrolled": false
   },
   "outputs": [
    {
     "name": "stdout",
     "output_type": "stream",
     "text": [
      "open 0\n",
      "open 2\n",
      "close 2\n",
      "open 0\n",
      "open 1\n",
      "close 1\n",
      "close 0\n",
      "close 0\n"
     ]
    },
    {
     "data": {
      "text/plain": [
       "'Balanced'"
      ]
     },
     "execution_count": 80,
     "metadata": {},
     "output_type": "execute_result"
    }
   ],
   "source": [
    "check_parantheses(input_expression)"
   ]
  }
 ],
 "metadata": {
  "kernelspec": {
   "display_name": "Python 3",
   "language": "python",
   "name": "python3"
  },
  "language_info": {
   "codemirror_mode": {
    "name": "ipython",
    "version": 3
   },
   "file_extension": ".py",
   "mimetype": "text/x-python",
   "name": "python",
   "nbconvert_exporter": "python",
   "pygments_lexer": "ipython3",
   "version": "3.7.1"
  }
 },
 "nbformat": 4,
 "nbformat_minor": 2
}
