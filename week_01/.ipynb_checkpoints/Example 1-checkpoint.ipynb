{
 "cells": [
  {
   "cell_type": "markdown",
   "metadata": {},
   "source": [
    "### 길이가 3인 문자열을 원소로 갖는 List 를 입력으로 하고, 공통된 문자쌍을 갖고 나머지 한 문자만 다른 경우의 수를 출력해주는 함수를 작성하세요."
   ]
  },
  {
   "cell_type": "code",
   "execution_count": 19,
   "metadata": {},
   "outputs": [],
   "source": [
    "def compare_string(str1, str2):\n",
    "    '''\n",
    "        두 문자를 비교하여 공통된 문자를 세는 함수입니다.\n",
    "        \n",
    "        example)\n",
    "        \n",
    "            compare_string('bcd', 'bce') -> return 2\n",
    "            compare_string('bff', 'bce') -> return 1\n",
    "            \n",
    "    '''\n",
    "    # count 를 저장할 변수 선언\n",
    "    cnt = 0\n",
    "    \n",
    "    '''\n",
    "        \n",
    "        * zip(str1, str2)\n",
    "        \n",
    "        str1, str2 각각에서  c1, c2 를 뽑아낸다\n",
    "        \n",
    "        example)\n",
    "        \n",
    "            str1 = 'bcd' str2 = 'bcf'\n",
    "            \n",
    "            1st loop = b , b\n",
    "            2nd loop = c , c \n",
    "            3rd loop = d , f\n",
    "            \n",
    "    '''\n",
    "    for c1, c2 in zip(str1, str2):\n",
    "        \n",
    "        # 문자가 같으면 cnt 를 1만큼 증가시킵니다.\n",
    "        if c1 == c2: cnt += 1\n",
    "            \n",
    "    return cnt\n",
    "\n",
    "def pair_count(input_list):\n",
    "    \n",
    "    # 공통된 문자쌍을 갖는 문자열의 갯수를 저장할 변수 선언\n",
    "    cnt = 0\n",
    "    \n",
    "    for i, string in enumerate(input_list):\n",
    "        \n",
    "        # 첫번째 기준이 되는 string 을 str1 변수에 저장\n",
    "        str1 = string\n",
    "        \n",
    "        for another_string in input_list[i+1:]:\n",
    "            \n",
    "            # str1 과 비교할 str2 를 for loop 을 통하여 얻습니다. 이 때, 자기자신과의 비교는 하지 않기 때문에 i+1 부터 진행합니다.\n",
    "            str2 = another_string\n",
    "            \n",
    "            # 앞에서 정의한 함수를 사용하여 공통된 문자의 갯수를 얻습니다.\n",
    "            common_cnt = compare_string(str1, str2)\n",
    "            \n",
    "            # 공통된 문자쌍의 갯수가 2이면 1을 증가시킵니다.\n",
    "            if common_cnt == 2 : cnt += 1\n",
    "                \n",
    "                \n",
    "    # 최종 count 를 반환합니다\n",
    "    return cnt"
   ]
  },
  {
   "cell_type": "code",
   "execution_count": 20,
   "metadata": {},
   "outputs": [
    {
     "name": "stdout",
     "output_type": "stream",
     "text": [
      "2\n",
      "4\n"
     ]
    }
   ],
   "source": [
    "input_list =  [\"bcd\", \"bce\", \"cce\"]\n",
    "input_list2 = ['def', 'deg', 'dmf', 'xef', 'dxg']\n",
    "\n",
    "print(pair_count(input_list))\n",
    "print(pair_count(input_list2))"
   ]
  },
  {
   "cell_type": "code",
   "execution_count": null,
   "metadata": {},
   "outputs": [],
   "source": []
  }
 ],
 "metadata": {
  "kernelspec": {
   "display_name": "Python 3",
   "language": "python",
   "name": "python3"
  },
  "language_info": {
   "codemirror_mode": {
    "name": "ipython",
    "version": 3
   },
   "file_extension": ".py",
   "mimetype": "text/x-python",
   "name": "python",
   "nbconvert_exporter": "python",
   "pygments_lexer": "ipython3",
   "version": "3.7.1"
  }
 },
 "nbformat": 4,
 "nbformat_minor": 2
}
