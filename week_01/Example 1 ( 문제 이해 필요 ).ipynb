{
 "cells": [
  {
   "cell_type": "markdown",
   "metadata": {},
   "source": [
    "### 길이가 3인 문자열을 원소로 갖는 List 를 입력으로 하고, 공통된 문자쌍을 갖고 나머지 한 문자만 다른 경우의 수를 출력해주는 함수를 작성하세요."
   ]
  },
  {
   "cell_type": "markdown",
   "metadata": {},
   "source": [
    "문제 이해가 잘 안된다.."
   ]
  },
  {
   "cell_type": "code",
   "execution_count": 11,
   "metadata": {
    "scrolled": true
   },
   "outputs": [
    {
     "name": "stdout",
     "output_type": "stream",
     "text": [
      "Type list of strings with 3 characters : [\"bcd\", \"bce\", \"cce\"]\n"
     ]
    }
   ],
   "source": [
    "input_list = input('Type list of strings with 3 characters : ')"
   ]
  },
  {
   "cell_type": "code",
   "execution_count": 8,
   "metadata": {},
   "outputs": [
    {
     "name": "stdout",
     "output_type": "stream",
     "text": [
      "Type list of strings with 3 characters : da\n"
     ]
    }
   ],
   "source": [
    "def pair_count(input_list):\n",
    "    \n",
    "    # make input string --> list of strings\n",
    "    \n",
    "    # check whether strings' length are all 3\n",
    "    \n",
    "    # check all characters each\n",
    "    input_list\n",
    "    \n",
    "    return None"
   ]
  },
  {
   "cell_type": "code",
   "execution_count": 21,
   "metadata": {},
   "outputs": [
    {
     "name": "stdout",
     "output_type": "stream",
     "text": [
      "bcd\n",
      "bce\n",
      "cce\n"
     ]
    }
   ],
   "source": [
    "table = []\n",
    "\n",
    "for string in input_list.rstrip(']').lstrip('[').split(','):\n",
    "    print(string.strip('   ').strip('\"\"'))"
   ]
  },
  {
   "cell_type": "code",
   "execution_count": 23,
   "metadata": {},
   "outputs": [
    {
     "data": {
      "text/plain": [
       "'a a a'"
      ]
     },
     "execution_count": 23,
     "metadata": {},
     "output_type": "execute_result"
    }
   ],
   "source": [
    "a.strip('    ')"
   ]
  },
  {
   "cell_type": "code",
   "execution_count": null,
   "metadata": {},
   "outputs": [],
   "source": []
  }
 ],
 "metadata": {
  "kernelspec": {
   "display_name": "Python 3",
   "language": "python",
   "name": "python3"
  },
  "language_info": {
   "codemirror_mode": {
    "name": "ipython",
    "version": 3
   },
   "file_extension": ".py",
   "mimetype": "text/x-python",
   "name": "python",
   "nbconvert_exporter": "python",
   "pygments_lexer": "ipython3",
   "version": "3.7.1"
  }
 },
 "nbformat": 4,
 "nbformat_minor": 2
}
