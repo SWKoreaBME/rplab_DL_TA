{
 "cells": [
  {
   "cell_type": "markdown",
   "metadata": {},
   "source": [
    "## 주어진 두 문자열이 순서만 다른 같은 문자들로 이루어졌는지 판단하는 함수를 작성하세요."
   ]
  },
  {
   "cell_type": "code",
   "execution_count": 3,
   "metadata": {},
   "outputs": [],
   "source": [
    "str1, str2 = \"abffffcd\", \"bcdaffff\"\n",
    "\n",
    "def str2dict(s):\n",
    "    # 문자를 dictionary 형태로 변환합니다.\n",
    "    a = {\n",
    "        x : 0 for x in s\n",
    "    }\n",
    "    for c in s: a[c] += 1\n",
    "    return a\n",
    "    \n",
    "def check(str1, str2):\n",
    "    \n",
    "    # 두 문자의 string 에 해당하는 dictionary 를 저장하고\n",
    "    str1_dict = str2dict(str1)\n",
    "    str2_dict = str2dict(str2)\n",
    "    \n",
    "    # 두 dictionary 가 같은지 비교하고 boolean 을 return\n",
    "    return str1_dict == str2_dict"
   ]
  },
  {
   "cell_type": "code",
   "execution_count": 4,
   "metadata": {},
   "outputs": [
    {
     "data": {
      "text/plain": [
       "True"
      ]
     },
     "execution_count": 4,
     "metadata": {},
     "output_type": "execute_result"
    }
   ],
   "source": [
    "check(str1, str2)"
   ]
  }
 ],
 "metadata": {
  "kernelspec": {
   "display_name": "Python 3",
   "language": "python",
   "name": "python3"
  },
  "language_info": {
   "codemirror_mode": {
    "name": "ipython",
    "version": 3
   },
   "file_extension": ".py",
   "mimetype": "text/x-python",
   "name": "python",
   "nbconvert_exporter": "python",
   "pygments_lexer": "ipython3",
   "version": "3.7.1"
  }
 },
 "nbformat": 4,
 "nbformat_minor": 2
}
